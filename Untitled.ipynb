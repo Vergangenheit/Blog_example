{
 "cells": [
  {
   "cell_type": "code",
   "execution_count": 1,
   "metadata": {
    "collapsed": false,
    "deletable": true,
    "editable": true
   },
   "outputs": [
    {
     "name": "stdout",
     "output_type": "stream",
     "text": [
      "Requirement already satisfied: flask_sqlalchemy in c:\\users\\user\\appdata\\local\\enthought\\canopy\\edm\\envs\\user\\lib\\site-packages (2.4.1)\n",
      "Requirement already satisfied: Flask>=0.10 in c:\\users\\user\\appdata\\local\\enthought\\canopy\\edm\\envs\\user\\lib\\site-packages (from flask_sqlalchemy) (1.0.2)\n",
      "Requirement already satisfied: SQLAlchemy>=0.8.0 in c:\\users\\user\\appdata\\local\\enthought\\canopy\\edm\\envs\\user\\lib\\site-packages (from flask_sqlalchemy) (1.1.6)\n",
      "Requirement already satisfied: Jinja2>=2.10 in c:\\users\\user\\appdata\\local\\enthought\\canopy\\edm\\envs\\user\\lib\\site-packages (from Flask>=0.10->flask_sqlalchemy) (2.10)\n",
      "Requirement already satisfied: itsdangerous>=0.24 in c:\\users\\user\\appdata\\local\\enthought\\canopy\\edm\\envs\\user\\lib\\site-packages (from Flask>=0.10->flask_sqlalchemy) (0.24)\n",
      "Requirement already satisfied: click>=5.1 in c:\\users\\user\\appdata\\local\\enthought\\canopy\\edm\\envs\\user\\lib\\site-packages (from Flask>=0.10->flask_sqlalchemy) (6.7)\n",
      "Requirement already satisfied: Werkzeug>=0.14 in c:\\users\\user\\appdata\\local\\enthought\\canopy\\edm\\envs\\user\\lib\\site-packages (from Flask>=0.10->flask_sqlalchemy) (0.14.1)\n",
      "Requirement already satisfied: MarkupSafe>=0.23 in c:\\users\\user\\appdata\\local\\enthought\\canopy\\edm\\envs\\user\\lib\\site-packages (from Jinja2>=2.10->Flask>=0.10->flask_sqlalchemy) (0.23)\n"
     ]
    },
    {
     "name": "stderr",
     "output_type": "stream",
     "text": [
      "WARNING: You are using pip version 19.2.1, however version 19.3.1 is available.\n",
      "You should consider upgrading via the 'python -m pip install --upgrade pip' command.\n"
     ]
    }
   ],
   "source": [
    "!pip install flask_sqlalchemy"
   ]
  },
  {
   "cell_type": "code",
   "execution_count": 2,
   "metadata": {
    "collapsed": false,
    "deletable": true,
    "editable": true
   },
   "outputs": [
    {
     "name": "stdout",
     "output_type": "stream",
     "text": [
      "Requirement already satisfied: flask_bcrypt in c:\\users\\user\\appdata\\local\\enthought\\canopy\\edm\\envs\\user\\lib\\site-packages (0.7.1)\n",
      "Requirement already satisfied: bcrypt in c:\\users\\user\\appdata\\local\\enthought\\canopy\\edm\\envs\\user\\lib\\site-packages (from flask_bcrypt) (3.1.7)\n",
      "Requirement already satisfied: Flask in c:\\users\\user\\appdata\\local\\enthought\\canopy\\edm\\envs\\user\\lib\\site-packages (from flask_bcrypt) (1.0.2)\n",
      "Requirement already satisfied: cffi>=1.1 in c:\\users\\user\\appdata\\local\\enthought\\canopy\\edm\\envs\\user\\lib\\site-packages (from bcrypt->flask_bcrypt) (1.11.5)\n",
      "Requirement already satisfied: six>=1.4.1 in c:\\users\\user\\appdata\\local\\enthought\\canopy\\edm\\envs\\user\\lib\\site-packages (from bcrypt->flask_bcrypt) (1.12.0)\n",
      "Requirement already satisfied: click>=5.1 in c:\\users\\user\\appdata\\local\\enthought\\canopy\\edm\\envs\\user\\lib\\site-packages (from Flask->flask_bcrypt) (6.7)\n",
      "Requirement already satisfied: Werkzeug>=0.14 in c:\\users\\user\\appdata\\local\\enthought\\canopy\\edm\\envs\\user\\lib\\site-packages (from Flask->flask_bcrypt) (0.14.1)\n",
      "Requirement already satisfied: Jinja2>=2.10 in c:\\users\\user\\appdata\\local\\enthought\\canopy\\edm\\envs\\user\\lib\\site-packages (from Flask->flask_bcrypt) (2.10)\n",
      "Requirement already satisfied: itsdangerous>=0.24 in c:\\users\\user\\appdata\\local\\enthought\\canopy\\edm\\envs\\user\\lib\\site-packages (from Flask->flask_bcrypt) (0.24)\n",
      "Requirement already satisfied: pycparser in c:\\users\\user\\appdata\\local\\enthought\\canopy\\edm\\envs\\user\\lib\\site-packages (from cffi>=1.1->bcrypt->flask_bcrypt) (2.18)\n",
      "Requirement already satisfied: MarkupSafe>=0.23 in c:\\users\\user\\appdata\\local\\enthought\\canopy\\edm\\envs\\user\\lib\\site-packages (from Jinja2>=2.10->Flask->flask_bcrypt) (0.23)\n"
     ]
    },
    {
     "name": "stderr",
     "output_type": "stream",
     "text": [
      "WARNING: You are using pip version 19.2.1, however version 19.3.1 is available.\n",
      "You should consider upgrading via the 'python -m pip install --upgrade pip' command.\n"
     ]
    }
   ],
   "source": [
    "!pip install flask_bcrypt"
   ]
  },
  {
   "cell_type": "code",
   "execution_count": 4,
   "metadata": {
    "collapsed": false,
    "deletable": true,
    "editable": true
   },
   "outputs": [
    {
     "name": "stdout",
     "output_type": "stream",
     "text": [
      "Requirement already satisfied: flask_wtf in c:\\users\\user\\appdata\\local\\enthought\\canopy\\edm\\envs\\user\\lib\\site-packages (0.14.2)\n",
      "Requirement already satisfied: WTForms in c:\\users\\user\\appdata\\local\\enthought\\canopy\\edm\\envs\\user\\lib\\site-packages (from flask_wtf) (2.2.1)\n",
      "Requirement already satisfied: Flask in c:\\users\\user\\appdata\\local\\enthought\\canopy\\edm\\envs\\user\\lib\\site-packages (from flask_wtf) (1.0.2)\n",
      "Requirement already satisfied: Werkzeug>=0.14 in c:\\users\\user\\appdata\\local\\enthought\\canopy\\edm\\envs\\user\\lib\\site-packages (from Flask->flask_wtf) (0.14.1)\n",
      "Requirement already satisfied: Jinja2>=2.10 in c:\\users\\user\\appdata\\local\\enthought\\canopy\\edm\\envs\\user\\lib\\site-packages (from Flask->flask_wtf) (2.10)\n",
      "Requirement already satisfied: itsdangerous>=0.24 in c:\\users\\user\\appdata\\local\\enthought\\canopy\\edm\\envs\\user\\lib\\site-packages (from Flask->flask_wtf) (0.24)\n",
      "Requirement already satisfied: click>=5.1 in c:\\users\\user\\appdata\\local\\enthought\\canopy\\edm\\envs\\user\\lib\\site-packages (from Flask->flask_wtf) (6.7)\n",
      "Requirement already satisfied: MarkupSafe>=0.23 in c:\\users\\user\\appdata\\local\\enthought\\canopy\\edm\\envs\\user\\lib\\site-packages (from Jinja2>=2.10->Flask->flask_wtf) (0.23)\n"
     ]
    },
    {
     "name": "stderr",
     "output_type": "stream",
     "text": [
      "WARNING: You are using pip version 19.2.1, however version 19.3.1 is available.\n",
      "You should consider upgrading via the 'python -m pip install --upgrade pip' command.\n"
     ]
    }
   ],
   "source": [
    "!pip install flask_wtf"
   ]
  },
  {
   "cell_type": "code",
   "execution_count": 6,
   "metadata": {
    "collapsed": false
   },
   "outputs": [
    {
     "name": "stdout",
     "output_type": "stream",
     "text": [
      "Collecting flask_login\n",
      "Requirement already satisfied: Flask in c:\\users\\user\\appdata\\local\\enthought\\canopy\\edm\\envs\\user\\lib\\site-packages (from flask_login) (1.0.2)\n",
      "Requirement already satisfied: itsdangerous>=0.24 in c:\\users\\user\\appdata\\local\\enthought\\canopy\\edm\\envs\\user\\lib\\site-packages (from Flask->flask_login) (0.24)\n",
      "Requirement already satisfied: Werkzeug>=0.14 in c:\\users\\user\\appdata\\local\\enthought\\canopy\\edm\\envs\\user\\lib\\site-packages (from Flask->flask_login) (0.14.1)\n",
      "Requirement already satisfied: Jinja2>=2.10 in c:\\users\\user\\appdata\\local\\enthought\\canopy\\edm\\envs\\user\\lib\\site-packages (from Flask->flask_login) (2.10)\n",
      "Requirement already satisfied: click>=5.1 in c:\\users\\user\\appdata\\local\\enthought\\canopy\\edm\\envs\\user\\lib\\site-packages (from Flask->flask_login) (6.7)\n",
      "Requirement already satisfied: MarkupSafe>=0.23 in c:\\users\\user\\appdata\\local\\enthought\\canopy\\edm\\envs\\user\\lib\\site-packages (from Jinja2>=2.10->Flask->flask_login) (0.23)\n",
      "Installing collected packages: flask-login\n",
      "Successfully installed flask-login-0.4.1\n"
     ]
    },
    {
     "name": "stderr",
     "output_type": "stream",
     "text": [
      "WARNING: You are using pip version 19.2.1, however version 19.3.1 is available.\n",
      "You should consider upgrading via the 'python -m pip install --upgrade pip' command.\n"
     ]
    }
   ],
   "source": [
    "!pip install flask_login"
   ]
  },
  {
   "cell_type": "code",
   "execution_count": null,
   "metadata": {
    "collapsed": true
   },
   "outputs": [],
   "source": [
    "!pip install secrets"
   ]
  },
  {
   "cell_type": "code",
   "execution_count": 7,
   "metadata": {
    "collapsed": false,
    "deletable": true,
    "editable": true
   },
   "outputs": [
    {
     "name": "stderr",
     "output_type": "stream",
     "text": [
      "C:\\Users\\User\\AppData\\Local\\Enthought\\Canopy\\edm\\envs\\User\\lib\\site-packages\\flask_sqlalchemy\\__init__.py:835: FSADeprecationWarning: SQLALCHEMY_TRACK_MODIFICATIONS adds significant overhead and will be disabled by default in the future.  Set it to True or False to suppress this warning.\n",
      "  'SQLALCHEMY_TRACK_MODIFICATIONS adds significant overhead and '\n"
     ]
    },
    {
     "ename": "ImportError",
     "evalue": "No module named 'secrets'",
     "output_type": "error",
     "traceback": [
      "\u001b[1;31m---------------------------------------------------------------------------\u001b[0m",
      "\u001b[1;31mImportError\u001b[0m                               Traceback (most recent call last)",
      "\u001b[1;32m<ipython-input-7-dc613eea6259>\u001b[0m in \u001b[0;36m<module>\u001b[1;34m()\u001b[0m\n\u001b[1;32m----> 1\u001b[1;33m \u001b[1;32mfrom\u001b[0m \u001b[0mflask_blog\u001b[0m\u001b[1;33m.\u001b[0m\u001b[0mmodels\u001b[0m \u001b[1;32mimport\u001b[0m \u001b[0mUser\u001b[0m\u001b[1;33m\u001b[0m\u001b[0m\n\u001b[0m",
      "\u001b[1;32mC:\\Users\\User\\Desktop\\Flask_Blog\\flask_blog\\__init__.py\u001b[0m in \u001b[0;36m<module>\u001b[1;34m()\u001b[0m\n\u001b[0;32m     14\u001b[0m \u001b[0mlogin_manager\u001b[0m\u001b[1;33m.\u001b[0m\u001b[0mlogin_message_category\u001b[0m \u001b[1;33m=\u001b[0m \u001b[1;34m'info'\u001b[0m\u001b[1;33m\u001b[0m\u001b[0m\n\u001b[0;32m     15\u001b[0m \u001b[1;33m\u001b[0m\u001b[0m\n\u001b[1;32m---> 16\u001b[1;33m \u001b[1;32mfrom\u001b[0m \u001b[0mflask_blog\u001b[0m \u001b[1;32mimport\u001b[0m \u001b[0mroutes\u001b[0m\u001b[1;33m\u001b[0m\u001b[0m\n\u001b[0m",
      "\u001b[1;32mC:\\Users\\User\\Desktop\\Flask_Blog\\flask_blog\\routes.py\u001b[0m in \u001b[0;36m<module>\u001b[1;34m()\u001b[0m\n\u001b[1;32m----> 1\u001b[1;33m \u001b[1;32mimport\u001b[0m \u001b[0msecrets\u001b[0m\u001b[1;33m\u001b[0m\u001b[0m\n\u001b[0m\u001b[0;32m      2\u001b[0m \u001b[1;32mimport\u001b[0m \u001b[0mos\u001b[0m\u001b[1;33m\u001b[0m\u001b[0m\n\u001b[0;32m      3\u001b[0m \u001b[1;32mfrom\u001b[0m \u001b[0mPIL\u001b[0m \u001b[1;32mimport\u001b[0m \u001b[0mImage\u001b[0m\u001b[1;33m\u001b[0m\u001b[0m\n\u001b[0;32m      4\u001b[0m \u001b[1;32mfrom\u001b[0m \u001b[0mflask\u001b[0m \u001b[1;32mimport\u001b[0m \u001b[0mrender_template\u001b[0m\u001b[1;33m,\u001b[0m \u001b[0murl_for\u001b[0m\u001b[1;33m,\u001b[0m \u001b[0mflash\u001b[0m\u001b[1;33m,\u001b[0m \u001b[0mredirect\u001b[0m\u001b[1;33m,\u001b[0m \u001b[0mrequest\u001b[0m\u001b[1;33m\u001b[0m\u001b[0m\n\u001b[0;32m      5\u001b[0m \u001b[1;32mfrom\u001b[0m \u001b[0mflask_blog\u001b[0m \u001b[1;32mimport\u001b[0m \u001b[0mapp\u001b[0m\u001b[1;33m,\u001b[0m \u001b[0mdb\u001b[0m\u001b[1;33m,\u001b[0m \u001b[0mbcrypt\u001b[0m\u001b[1;33m\u001b[0m\u001b[0m\n",
      "\u001b[1;31mImportError\u001b[0m: No module named 'secrets'"
     ]
    }
   ],
   "source": [
    "from flask_blog.models import User"
   ]
  },
  {
   "cell_type": "code",
   "execution_count": null,
   "metadata": {
    "collapsed": true,
    "deletable": true,
    "editable": true
   },
   "outputs": [],
   "source": []
  }
 ],
 "metadata": {
  "kernelspec": {
   "display_name": "Python 3",
   "language": "python",
   "name": "python3"
  },
  "language_info": {
   "codemirror_mode": {
    "name": "ipython",
    "version": 3
   },
   "file_extension": ".py",
   "mimetype": "text/x-python",
   "name": "python",
   "nbconvert_exporter": "python",
   "pygments_lexer": "ipython3",
   "version": "3.5.2"
  }
 },
 "nbformat": 4,
 "nbformat_minor": 2
}
